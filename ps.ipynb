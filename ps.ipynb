{
 "cells": [
  {
   "cell_type": "code",
   "execution_count": 19,
   "metadata": {},
   "outputs": [
    {
     "name": "stdout",
     "output_type": "stream",
     "text": [
      "78\n"
     ]
    }
   ],
   "source": [
    "def primeiro():\n",
    "  i =13\n",
    "  sum=0\n",
    "  k =0\n",
    "  while(k< i):\n",
    "    sum = sum + k\n",
    "    k = k + 1\n",
    "  return sum\n",
    "\n",
    "print(primeiro())"
   ]
  },
  {
   "cell_type": "code",
   "execution_count": 20,
   "metadata": {},
   "outputs": [
    {
     "name": "stdout",
     "output_type": "stream",
     "text": [
      "O número 4 não pertence à sequência de Fibonacci.\n"
     ]
    }
   ],
   "source": [
    "def segundo(n):\n",
    "  def fibonacci_sequence_up_to(n):\n",
    "    sequence = [0, 1]\n",
    "    while sequence[-1] < n:\n",
    "        sequence.append(sequence[-1] + sequence[-2])\n",
    "    return sequence\n",
    "\n",
    "  def is_in_fibonacci(n):\n",
    "    sequence = fibonacci_sequence_up_to(n)\n",
    "    if n in sequence:\n",
    "        return f\"O número {n} pertence à sequência de Fibonacci.\"\n",
    "    else:\n",
    "        return f\"O número {n} não pertence à sequência de Fibonacci.\"\n",
    "\n",
    "  result = is_in_fibonacci(n)\n",
    "  print(result)\n",
    "\n",
    "segundo(4)\n"
   ]
  },
  {
   "cell_type": "code",
   "execution_count": 21,
   "metadata": {},
   "outputs": [
    {
     "name": "stdout",
     "output_type": "stream",
     "text": [
      "Resultados da análise do faturamento diário:\n",
      "Menor valor de faturamento: 373.7838\n",
      "Maior valor de faturamento: 48924.2448\n",
      "Número de dias com faturamento acima da média mensal: 10\n",
      "Erro: O arquivo 'faturamento.json' não foi encontrado.\n"
     ]
    }
   ],
   "source": [
    "def terceiro():\n",
    "  import json\n",
    "\n",
    "  def analyze_faturamento(data):\n",
    "      faturamentos = [dia[\"valor\"] for dia in data if dia[\"valor\"] > 0]\n",
    "\n",
    "      if not faturamentos:\n",
    "          return {\n",
    "              \"menor_valor\": None,\n",
    "              \"maior_valor\": None,\n",
    "              \"dias_acima_da_media\": 0,\n",
    "          }\n",
    "\n",
    "      menor_valor = min(faturamentos)\n",
    "      maior_valor = max(faturamentos)\n",
    "      media_mensal = sum(faturamentos) / len(faturamentos)\n",
    "\n",
    "      dias_acima_da_media = sum(1 for dia in faturamentos if dia > media_mensal)\n",
    "\n",
    "      return {\n",
    "          \"menor_valor\": menor_valor,\n",
    "          \"maior_valor\": maior_valor,\n",
    "          \"dias_acima_da_media\": dias_acima_da_media,\n",
    "      }\n",
    "\n",
    "  try:\n",
    "      with open(\"dados.json\", \"r\") as faturamento:\n",
    "          dados_faturamento = json.load(faturamento)\n",
    "\n",
    "      resultados = analyze_faturamento(dados_faturamento)\n",
    "\n",
    "      print(\"Resultados da análise do faturamento diário:\")\n",
    "      print(f\"Menor valor de faturamento: {resultados['menor_valor']}\")\n",
    "      print(f\"Maior valor de faturamento: {resultados['maior_valor']}\")\n",
    "      print(f\"Número de dias com faturamento acima da média mensal: {resultados['dias_acima_da_media']}\")\n",
    "\n",
    "      print(\"Erro: O arquivo 'faturamento.json' não foi encontrado.\")\n",
    "  except json.JSONDecodeError:\n",
    "      print(\"Erro: O arquivo JSON possui um formato inválido.\")\n",
    "\n",
    "terceiro()"
   ]
  },
  {
   "cell_type": "code",
   "execution_count": 22,
   "metadata": {},
   "outputs": [
    {
     "name": "stdout",
     "output_type": "stream",
     "text": [
      "Percentual de representação por estado:\n",
      "SP: 37.53%\n",
      "RJ: 20.29%\n",
      "MG: 16.17%\n",
      "ES: 15.03%\n",
      "Outros: 10.98%\n"
     ]
    }
   ],
   "source": [
    "def quarto():\n",
    "  def calcular_percentuais(faturamento_por_estado):\n",
    "    faturamento_total = sum(faturamento_por_estado.values())\n",
    "    percentuais = {\n",
    "        estado: (valor / faturamento_total) * 100\n",
    "        for estado, valor in faturamento_por_estado.items()\n",
    "    }\n",
    "    return percentuais\n",
    "\n",
    "  faturamento_estados = {\n",
    "      \"SP\": 67836.43,\n",
    "      \"RJ\": 36678.66,\n",
    "      \"MG\": 29229.88,\n",
    "      \"ES\": 27165.48,\n",
    "      \"Outros\": 19849.53,\n",
    "  }\n",
    "\n",
    "  percentuais = calcular_percentuais(faturamento_estados)\n",
    "\n",
    "  print(\"Percentual de representação por estado:\")\n",
    "  for estado, percentual in percentuais.items():\n",
    "      print(f\"{estado}: {percentual:.2f}%\")\n",
    "\n",
    "quarto()"
   ]
  },
  {
   "cell_type": "code",
   "execution_count": 23,
   "metadata": {},
   "outputs": [
    {
     "name": "stdout",
     "output_type": "stream",
     "text": [
      "String invertida: nohtyP\n"
     ]
    }
   ],
   "source": [
    "def quinto(string):\n",
    "  def inverter_string(string):\n",
    "    invertida = \"\"\n",
    "    for i in range(len(string) - 1, -1, -1):\n",
    "        invertida += string[i]\n",
    "    return invertida\n",
    "\n",
    "  # Entrada do usuário\n",
    "  resultado = inverter_string(string)\n",
    "\n",
    "  # Exibir resultado\n",
    "  print(f\"String invertida: {resultado}\")\n",
    "\n",
    "quinto(\"Python\")"
   ]
  }
 ],
 "metadata": {
  "kernelspec": {
   "display_name": "3.12.5",
   "language": "python",
   "name": "python3"
  },
  "language_info": {
   "codemirror_mode": {
    "name": "ipython",
    "version": 3
   },
   "file_extension": ".py",
   "mimetype": "text/x-python",
   "name": "python",
   "nbconvert_exporter": "python",
   "pygments_lexer": "ipython3",
   "version": "3.12.5"
  }
 },
 "nbformat": 4,
 "nbformat_minor": 2
}
